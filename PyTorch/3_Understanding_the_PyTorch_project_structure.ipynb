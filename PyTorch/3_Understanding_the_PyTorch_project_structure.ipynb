{
  "nbformat": 4,
  "nbformat_minor": 0,
  "metadata": {
    "colab": {
      "name": "3_Understanding the PyTorch project structure.ipynb",
      "provenance": []
    },
    "kernelspec": {
      "name": "python3",
      "display_name": "Python 3"
    },
    "language_info": {
      "name": "python"
    }
  },
  "cells": [
    {
      "cell_type": "markdown",
      "metadata": {
        "id": "neSXdTacdvaN"
      },
      "source": [
        "# Understanding the PyTorch project structure"
      ]
    },
    {
      "cell_type": "markdown",
      "metadata": {
        "id": "uHWN1Pqacv0Z"
      },
      "source": [
        "## PyTorch Project Template Overview\n",
        "\n",
        "* 초기 단계에서는 대화식 개발 과정이 유리함\n",
        "  * 대화식 개발과정 : 하나하나 결과(출력)을 확인(학습 과정+ 디버깅을 반복)하면서 개발\n",
        "* 배포 및 공유 단계에서는 notebook 공유가 어려움\n",
        "  * 배포 및 공유 단계에서 재현가능성을 확보해야하지만, notebook으로 공유하는 경우 재현이 어려워지고 실행순서가 꼬일 수 있음\n",
        "* DL 코드도 하나의 프로그램이기 때문에 개발 용이성 확보와 유지보수 향상이 필요함\n",
        "\n",
        "* OOP + 모듈 $\\rightarrow$ 프로젝트\n",
        "  * 다양한 프로젝트 템플릿이 존재함\n",
        "  * 사용자 필요에 따라 수정하여 사용\n",
        "  * 실행, 데이터, 모델, 설정, 로깅, 지표, 유틸리티 등 다양한 모듈들을 분리하여 프로젝트를 템플릿화함\n",
        "* PyTorch Template 추천 repository\n",
        "  * https://github.com/FrancescoSaverioZuppichini/PyTorch-Deep-Learning-Template\n",
        "  * https://github.com/PyTorchLightning/deep-learning-project-template\n",
        "  * https://github.com/victoresque/pytorch-template\n",
        "    * 가장 좋음"
      ]
    },
    {
      "cell_type": "markdown",
      "metadata": {
        "id": "I5K0uA6Rdtq7"
      },
      "source": [
        "## Module 구성\n",
        "\n",
        "* 실행\n",
        "  * `train.py` : main script to start training\n",
        "  * `test.py` : evaluation of trained model\n",
        "* 설정\n",
        "  * `config.json` : holds configuration for training\n",
        "  * `parse_config.py` : class to handle config file and cli options\n",
        "* base-abstract module\n",
        "  * `base/` : abstract base classes\n",
        "    * `base_data_loader.py`\n",
        "    * `base_model.py`\n",
        "    * `base_trainer.py`\n",
        "* data\n",
        "  * `data_loader/` : anything about data loading goes here\n",
        "    * `data_loaders.py`\n",
        "  * `data/` : default directory for storing input data\n",
        "* model-architecture, loss, metric\n",
        "  * `model/` : models, losses, and metrics\n",
        "    * `model.py`\n",
        "    * `metric.py`\n",
        "    * `loss.py`\n",
        "* 저장소 - 로그, 모델 상태\n",
        "  * `saved/`\n",
        "    * `models/` : trained models are saved here\n",
        "    * `log/` : default logdic for tensorboard and logging output\n",
        "* 학습 수행\n",
        "  * `trainer/` : trainers\n",
        "    * `trainer.py`\n",
        "* 로깅설정\n",
        "  * `logger/` : module for tensorboard visualization and logging\n",
        "    * `visualization.py\n",
        "    * `logger.py`\n",
        "    * `logger_config.json`\n",
        "* 유틸리티\n",
        "  * `utils` : small utility functions\n",
        "    * `util.py`\n",
        "    * `...`"
      ]
    },
    {
      "cell_type": "markdown",
      "metadata": {
        "id": "3-z2N3X5eIMj"
      },
      "source": [
        "### template 사용\n",
        "\n",
        "* 사용할 template\n",
        "\n",
        "  * https://github.com/victoresque/pytorch-template\n",
        "\n",
        "* 새 프로젝트 생성\n",
        "\n",
        "  ```shell\n",
        "  \\pytorch-template>python new_project.py MyProject\n",
        "  ```\n",
        "\n",
        "* 프로젝트 실행\n",
        "\n",
        "  ```shell\n",
        "  \\pytorch-template>python train.py -c config.json\n",
        "  ```\n",
        "\n",
        "* 프로젝트에 대한 설명"
      ]
    },
    {
      "cell_type": "code",
      "metadata": {
        "id": "USbiU_Ij9mkq"
      },
      "source": [
        "class Test(object):\n",
        "  def __getitem__(self, index):\n",
        "    # index 에 해당하는 값을 return 함\n",
        "    return "
      ],
      "execution_count": null,
      "outputs": []
    }
  ]
}