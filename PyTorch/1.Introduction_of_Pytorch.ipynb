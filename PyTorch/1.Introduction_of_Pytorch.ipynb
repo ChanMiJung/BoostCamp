{
  "nbformat": 4,
  "nbformat_minor": 0,
  "metadata": {
    "colab": {
      "name": "Introduction of Pytorch.ipynb",
      "provenance": []
    },
    "kernelspec": {
      "name": "python3",
      "display_name": "Python 3"
    },
    "language_info": {
      "name": "python"
    }
  },
  "cells": [
    {
      "cell_type": "markdown",
      "metadata": {
        "id": "lMQfkzesMQ8_"
      },
      "source": [
        " # Introduction of PyTorch\n",
        "\n",
        " * 딥러닝 대표 Framework\n",
        "  * TensorFlow - Google\n",
        "  * PyTorch - Facebook\n",
        "\n",
        "|                           |               Keras               |           TensorFlow           |                PyTorch                |\n",
        "| :-----------------------: | :-------------------------------: | :----------------------------: | :-----------------------------------: |\n",
        "|       Level of API        |          high-level  API          |   Both high & low level APIs   |            Lower-level API            |\n",
        "|           Speed           |               Slow                |              High              |                 High                  |\n",
        "|       Architecture        | Simple, more readable and concise |      Not very easy to use      |               Conmplex                |\n",
        "|         Debugging         |         No need to debug          |     Difficult to debugging     |      Good debugging capabilities      |\n",
        "|   Dataset Compatibility   |           Slow & Small            |       Fast speed & large       |      Fast speed & large datasets      |\n",
        "|      Popularity Rank      |                 1                 |               2                |                   3                   |\n",
        "|        Uniqueness         |     Multiple back-end support     | Object Detection Functionality | Flexibility & Short Training Duration |\n",
        "|        Created By         |     Not a library on its own      |       Created by Google        |          Created by Facebook          |\n",
        "|        Ease of use        |           User-friendly           |      Incomprehensive API       |    Integrated with Python language    |\n",
        "| Computational graphs used |           Static graphs           |         Static graphs          |      Dynamic computation graphs       |\n",
        "\n",
        "## Computational Graph\n",
        "\n",
        "* 연산과정 - 그래프\n",
        "\n",
        "  $$g = (x + y) * z$$\n",
        "\n",
        "```mermaid\n",
        "graph LR;\n",
        "x --> A((+))\n",
        "y --> A\n",
        "A -->|p| B((*))\n",
        "z --> B\n",
        "B --> g\n",
        "```\n",
        "\n",
        "* Define and Run\n",
        "  * 그래프를 먼저 정의 후 실행 시점에 데이터를 feed 시켜줌\n",
        "* Define by Run (Dynamic Computational Graph, DCG)\n",
        "  * 실행을 하면서 그래프를 생성하는 방식\n",
        "\n",
        "## PyTorch를 사용하는 이유\n",
        "\n",
        "* Define by Run의 장점을 가짐\n",
        "  * 즉시 확인이 가능함 : pythonic code\n",
        "* GPU를 잘 지원해줌\n",
        "* 좋은 API 와 community를 가지고 있음\n",
        "* 사용하기 편함\n",
        "* 논문을 작성하거나 아이디어를 구현할 때 더 편함\n",
        "* cf. TF의 장점\n",
        "  * production\n",
        "  * Cloud 연결\n",
        "  * Multi-GPU\n",
        "  * scalability\n",
        "\n",
        "## PyTorch의 특징\n",
        "\n",
        "* Numpy + AutoGrad + Function\n",
        "* Numpy 구조를 가지는 Tensor 객체로 array 를 표현함\n",
        "* 자동 미분을 지원하여 딥러닝 연산을 지원함\n",
        "* 다양한 형태의 딥러닝(DL)을 지원하는 함수와 모델(Dataset, Multi-GPU 등등)을 지원함"
      ]
    }
  ]
}