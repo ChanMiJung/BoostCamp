{
  "nbformat": 4,
  "nbformat_minor": 0,
  "metadata": {
    "colab": {
      "name": "3_BERT언어모델소개_ BERT유사도기반챗봇.ipynb",
      "provenance": []
    },
    "kernelspec": {
      "name": "python3",
      "display_name": "Python 3"
    },
    "language_info": {
      "name": "python"
    }
  },
  "cells": [
    {
      "cell_type": "markdown",
      "metadata": {
        "id": "h8-w87x9sIKD"
      },
      "source": [
        "# BERT를 이용한 Chatbot 구현"
      ]
    },
    {
      "cell_type": "code",
      "metadata": {
        "id": "_5Qv6y5Tcv8f"
      },
      "source": [
        "# !pip install transformers"
      ],
      "execution_count": null,
      "outputs": []
    },
    {
      "cell_type": "markdown",
      "metadata": {
        "id": "x0TqpNQasoFP"
      },
      "source": [
        "## Pretrained BERT의 [CLS] token을 이용한 Chatbot"
      ]
    },
    {
      "cell_type": "markdown",
      "metadata": {
        "id": "Gsiai_4isuEP"
      },
      "source": [
        "* 사전 준비물\n",
        "  1. Pretrain된 BERT 모델\n",
        "    * BERT based multi-lingual model을 사용할 예정\n",
        "  2. 질의응답 Dataset\n",
        "\n",
        "* 진행 과정\n",
        "  1. 사용자의 질문(qeury)를 입력받음\n",
        "  2. query를 pretrained BERT의 입력으로 넣어, query 문장에 해당하는 [CLS] token hidden을 얻음\n",
        "  3. 사전에 준비된 질의응답 Dataset에 존재하는 모든 질문들을 pretrained BERT의 입력으로 넣어, 질문들에 해당하는 [CLS] token hidden을 얻음\n",
        "  4. query의 [CLS] token hidden과 질문들의 [CLS] token hidden간의 코사인 유사도를 구함\n",
        "  5. 가장 높은 코사인 유사도를 가진 질문의 답변을 반환함\n",
        "  6. 1~5 과정을 반복함"
      ]
    },
    {
      "cell_type": "markdown",
      "metadata": {
        "id": "-vzXaGwbtR8N"
      },
      "source": [
        "### Pretrained BERT Load\n",
        "* 공개된 BERT base Multilingual 버전을 사용함"
      ]
    },
    {
      "cell_type": "code",
      "metadata": {
        "id": "h7KEPTpYtg-w"
      },
      "source": [
        "import torch\n",
        "from transformers import AutoModel, AutoTokenizer"
      ],
      "execution_count": null,
      "outputs": []
    },
    {
      "cell_type": "code",
      "metadata": {
        "id": "Okh1FwQftkK_"
      },
      "source": [
        "MODEL_NAME = \"bert-base-multilingual-cased\"\n",
        "tokenizer = AutoTokenizer.from_pretrained(MODEL_NAME)\n",
        "model = AutoModel.from_pretrained(MODEL_NAME)\n",
        "model.parameters"
      ],
      "execution_count": null,
      "outputs": []
    },
    {
      "cell_type": "markdown",
      "metadata": {
        "id": "SGNeCfDMtoGL"
      },
      "source": [
        "### 질의응답 Dataset 예시\n",
        "* Question과 Answer 리스트에서 동일한 index가 서로 pair가 됨"
      ]
    },
    {
      "cell_type": "code",
      "metadata": {
        "id": "pSH_xlpet78J"
      },
      "source": [
        "chatbot_Question = ['기차 타고 여행 가고 싶어','꿈이 이루어질까?','내년에는 더 행복해질려고 이렇게 힘든가봅니다', '간만에 휴식 중', '오늘도 힘차게!'] # 질문\n",
        "chatbot_Answer = ['꿈꾸던 여행이네요.','현실을 꿈처럼 만들어봐요.','더 행복해질 거예요.', '휴식도 필요하죠', '아자아자 화이팅!!'] # 답변\n",
        "print(chatbot_Question[:])\n",
        "# ['기차 타고 여행 가고 싶어', '꿈이 이루어질까?', '내년에는 더 행복해질려고 이렇게 힘든가봅니다', '간만에 휴식 중', '오늘도 힘차게!']\n",
        "print(chatbot_Answer[:])\n",
        "# ['꿈꾸던 여행이네요.', '현실을 꿈처럼 만들어봐요.', '더 행복해질 거예요.', '휴식도 필요하죠', '아자아자 화이팅!!']"
      ],
      "execution_count": null,
      "outputs": []
    },
    {
      "cell_type": "markdown",
      "metadata": {
        "id": "uyzPIgyOuAeT"
      },
      "source": [
        "### [CLS] token을 얻기 위한 함수\n",
        "* 입력으로 들어온 문장을 tokenizing함\n",
        "  * 긴 문장은 truncation함\n",
        "  * `add_special_tokens=True`를 하여 앞에 [CLS] 뒤에 [SEP] 부착\n",
        "* model에 tokenizing 했던 결과값들을 input으로 넣음\n",
        "  * `input_ids` : tokenizing된 문장의 각각의 vocab id들을 입력함\n",
        "  * `attention_mask` : padding은 0, paddind이 아니면 1로 구분하여 관찰하도록 명시적으로 알려줌\n",
        "  * `token_type_ids` : 각 token마다 해당 문장의 index를 알려줌(index는 문장이 입력된 순서를 따름, 문장이 1개인 경우 모든 token은 초기값 0을 가짐)"
      ]
    },
    {
      "cell_type": "code",
      "metadata": {
        "id": "i5pxcsuluHYl"
      },
      "source": [
        "def get_cls_token(sent_A):\n",
        "    model.eval()\n",
        "    tokenized_sent = tokenizer(\n",
        "            sent_A,\n",
        "            return_tensors=\"pt\",\n",
        "            truncation=True,\n",
        "            add_special_tokens=True,\n",
        "            max_length=128\n",
        "    )\n",
        "    with torch.no_grad():# 그라디엔트 계산 비활성화\n",
        "        outputs = model(    # **tokenized_sent\n",
        "            input_ids=tokenized_sent['input_ids'],\n",
        "            attention_mask=tokenized_sent['attention_mask'],\n",
        "            token_type_ids=tokenized_sent['token_type_ids']\n",
        "            )\n",
        "        # model(**tokenized_sent) : tokenized_sent 안에 정보가 포함되어 있기 때문에 동일하게 동작함\n",
        "    logits = outputs.last_hidden_state[:,0,:].detach().cpu().numpy()\n",
        "    return logits"
      ],
      "execution_count": null,
      "outputs": []
    },
    {
      "cell_type": "markdown",
      "metadata": {
        "id": "a9sBqRPNwEvO"
      },
      "source": [
        "* 768 차원의 vector값을 얻음\n",
        "\n",
        "* query vector : CLS token vector"
      ]
    },
    {
      "cell_type": "code",
      "metadata": {
        "id": "zS2RA0WGu7Gc"
      },
      "source": [
        "query = '아 여행가고 싶다~'\n",
        "query_cls_hidden = get_cls_token(query)\n",
        "print(query_cls_hidden)\n",
        "print(query_cls_hidden.shape) # (1, 768)"
      ],
      "execution_count": null,
      "outputs": []
    },
    {
      "cell_type": "markdown",
      "metadata": {
        "id": "Dfmg4yfUwaeQ"
      },
      "source": [
        "* Chatbot 데이터셋의 Question 정보를 [CLS] token으로 바꿈"
      ]
    },
    {
      "cell_type": "code",
      "metadata": {
        "id": "UcfkJqyowB7h"
      },
      "source": [
        "from sklearn.metrics.pairwise import cosine_similarity\n",
        "import numpy as np\n",
        "\n",
        "dataset_cls_hidden = []\n",
        "for q in chatbot_Question:\n",
        "    q_cls = get_cls_token(q)\n",
        "    dataset_cls_hidden.append(q_cls)\n",
        "dataset_cls_hidden = np.array(dataset_cls_hidden).squeeze(axis=1)\n",
        "\n"
      ],
      "execution_count": null,
      "outputs": []
    },
    {
      "cell_type": "markdown",
      "metadata": {
        "id": "6xE3Zi5twpBw"
      },
      "source": [
        "* [CLS] token hidden 확인"
      ]
    },
    {
      "cell_type": "code",
      "metadata": {
        "id": "F5IEuJJ6wrwP"
      },
      "source": [
        "print(dataset_cls_hidden)   # 데이터셋의 질문에 대한 [CLS] 토큰 벡터\n",
        "'''\n",
        "[[ 0.2015294   0.00450035  0.19752151 ...  0.54929185  0.02755525\n",
        "   0.21813345]\n",
        " [-0.09731648  0.10722532 -0.23476414 ...  0.36494994  0.454968\n",
        "   0.31987903]\n",
        " [-0.23625095  0.13388395 -0.28571615 ...  0.53231657  0.33486852\n",
        "   0.30000678]\n",
        " [ 0.02712039  0.12172284  0.07334824 ...  0.23747024  0.2893383\n",
        "  -0.30687687]\n",
        " [-0.2990097  -0.0900768   0.10507746 ...  0.3788135   0.38025463\n",
        "   0.30487213]]\n",
        "'''\n",
        "\n",
        "print(dataset_cls_hidden.shape) # (5, 768)"
      ],
      "execution_count": null,
      "outputs": []
    },
    {
      "cell_type": "markdown",
      "metadata": {
        "id": "hGDROAUzwx4d"
      },
      "source": [
        "### 코사인 유사도\n",
        "* 얻어낸 Question에 대한 각각의 vector들과 내가 원하는 query와 그 둘 간의 cosin similarlity를 비교함"
      ]
    },
    {
      "cell_type": "code",
      "metadata": {
        "id": "c_aywJ9cwz_n"
      },
      "source": [
        "cos_sim = cosine_similarity(query_cls_hidden, dataset_cls_hidden)   # 데이터셋의 0번째 질문과 가장 유사하군요!\n",
        "print(cos_sim)\n",
        "# [[0.85016316 0.7788856  0.73615134 0.77987427 0.7242017 ]]"
      ],
      "execution_count": null,
      "outputs": []
    },
    {
      "cell_type": "markdown",
      "metadata": {
        "id": "nBKY7EqzxVJB"
      },
      "source": [
        "* Chatbot 데이터셋 중 가장 유사도가 높은 질문 선택 및 답변"
      ]
    },
    {
      "cell_type": "code",
      "metadata": {
        "id": "0HfZ3KSyxQRR"
      },
      "source": [
        "top_question = np.argmax(cos_sim)\n",
        "\n",
        "print('나의 질문: ', query)\n",
        "# 나의 질문:  아 여행가고 싶다~\n",
        "print('저장된 답변: ', chatbot_Answer[top_question])\n",
        "# 저장된 답변:  꿈꾸던 여행이네요."
      ],
      "execution_count": null,
      "outputs": []
    }
  ]
}